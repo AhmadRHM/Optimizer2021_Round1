{
 "cells": [
  {
   "cell_type": "code",
   "execution_count": 1,
   "metadata": {},
   "outputs": [],
   "source": [
    "using JuMP\n",
    "using ECOS\n",
    "using MAT\n",
    "using CSV\n",
    "using DataFrames\n",
    "using SparseArrays\n",
    "using Tables\n",
    "using DelimitedFiles"
   ]
  },
  {
   "cell_type": "code",
   "execution_count": 2,
   "metadata": {
    "scrolled": true
   },
   "outputs": [
    {
     "data": {
      "text/plain": [
       "6663-element SparseVector{Float64, Int64} with 612 stored entries:\n",
       "  [16  ]  =  -0.492217\n",
       "  [30  ]  =  -0.938267\n",
       "  [44  ]  =  -0.510348\n",
       "  [45  ]  =  7.43348e-17\n",
       "  [57  ]  =  -1.67201\n",
       "  [64  ]  =  -0.180278\n",
       "  [67  ]  =  -1.13148e-17\n",
       "  [107 ]  =  -0.778074\n",
       "  [122 ]  =  -0.926254\n",
       "  [125 ]  =  -1.52276\n",
       "          ⋮\n",
       "  [6570]  =  1.40655e-17\n",
       "  [6572]  =  -1.67112\n",
       "  [6598]  =  -0.748896\n",
       "  [6599]  =  -1.9726\n",
       "  [6611]  =  0.324654\n",
       "  [6614]  =  -1.16267\n",
       "  [6616]  =  -0.742368\n",
       "  [6619]  =  -0.767316\n",
       "  [6640]  =  1.01255e-17\n",
       "  [6649]  =  -0.769113\n",
       "  [6662]  =  -6.97678e-17"
      ]
     },
     "execution_count": 2,
     "metadata": {},
     "output_type": "execute_result"
    }
   ],
   "source": [
    "vars = matread(\"R1T3.mat\")\n",
    "S = vars[\"S\"]\n",
    "u1 = SparseArrays.sparsevec(vars[\"u1\"][\"nzind\"], vars[\"u1\"][\"nzval\"], vars[\"u1\"][\"n\"])\n",
    "l1 = SparseArrays.sparsevec(vars[\"l1\"][\"nzind\"], vars[\"l1\"][\"nzval\"], vars[\"l1\"][\"n\"])"
   ]
  },
  {
   "cell_type": "code",
   "execution_count": 4,
   "metadata": {},
   "outputs": [],
   "source": [
    "# defining the problem \n",
    "model = JuMP.Model(ECOS.Optimizer)\n",
    "@variable(model, v[1:6663])\n",
    "@objective(model, Min, sum(v[i] for i in 1:6663))\n",
    "@constraint(model, Array(l1) .<= v .<= Array(u1))\n",
    "@constraint(model, Matrix(S) * v .== 0);"
   ]
  },
  {
   "cell_type": "code",
   "execution_count": 5,
   "metadata": {},
   "outputs": [
    {
     "name": "stdout",
     "output_type": "stream",
     "text": [
      "\n",
      "ECOS 2.0.5 - (C) embotech GmbH, Zurich Switzerland, 2012-15. Web: www.embotech.com/ECOS\n",
      "\n",
      "It     pcost       dcost      gap   pres   dres    k/t    mu     step   sigma     IR    |   BT\n",
      " 0  +2.363e+00  -1.956e+03  +7e+04  8e-01  2e-09  1e+00  5e+00    ---    ---    1  1  - |  -  - \n",
      " 1  -7.772e+00  -3.403e+02  +2e+04  2e-01  6e-10  1e+00  2e+00  0.8249  2e-01   1  1  1 |  0  0\n",
      " 2  -1.692e+01  -1.011e+02  +6e+03  7e-02  3e-10  3e-01  5e-01  0.7759  9e-02   1  1  1 |  0  0\n",
      " 3  -1.693e+01  -4.839e+01  +2e+03  3e-02  2e-10  1e-01  2e-01  0.6921  1e-01   1  1  1 |  0  0\n",
      " 4  -1.603e+01  -3.227e+01  +1e+03  1e-02  1e-10  6e-02  9e-02  0.5135  6e-02   1  1  1 |  0  0\n",
      " 5  -1.576e+01  -2.220e+01  +5e+02  6e-03  1e-10  2e-02  3e-02  0.9249  3e-01   1  1  1 |  0  0\n",
      " 6  -1.519e+01  -1.815e+01  +2e+02  3e-03  6e-11  8e-03  2e-02  0.5528  3e-02   1  1  1 |  0  0\n",
      " 7  -1.473e+01  -1.509e+01  +3e+01  3e-04  1e-11  7e-04  2e-03  0.9890  1e-01   1  1  1 |  0  0\n",
      " 8  -1.466e+01  -1.469e+01  +2e+00  2e-05  3e-12  5e-05  1e-04  0.9462  2e-02   1  1  1 |  0  0\n",
      " 9  -1.465e+01  -1.466e+01  +2e-02  3e-07  2e-13  6e-07  2e-06  0.9875  1e-04   1  1  1 |  0  0\n",
      "10  -1.465e+01  -1.465e+01  +3e-04  3e-09  6e-15  7e-09  2e-08  0.9890  1e-04   2  0  0 |  0  0\n",
      "11  -1.465e+01  -1.465e+01  +3e-06  4e-11  7e-16  7e-11  2e-10  0.9890  1e-04   2  1  1 |  0  0\n",
      "12  -1.465e+01  -1.465e+01  +3e-08  4e-13  1e-16  8e-13  2e-12  0.9890  1e-04   0  0  0 |  0  0\n",
      "\n",
      "OPTIMAL (within feastol=4.1e-13, reltol=2.3e-09, abstol=3.3e-08).\n",
      "Runtime: 0.156834 seconds.\n",
      "\n"
     ]
    }
   ],
   "source": [
    "# solving the problem\n",
    "optimize!(model)\n",
    "termination_status(model)\n",
    "primal_status(model)\n",
    "DelimitedFiles.writedlm(\"output.txt\", JuMP.value.(v))"
   ]
  },
  {
   "cell_type": "code",
   "execution_count": null,
   "metadata": {},
   "outputs": [],
   "source": []
  }
 ],
 "metadata": {
  "kernelspec": {
   "display_name": "Julia 1.6.1",
   "language": "julia",
   "name": "julia-1.6"
  },
  "language_info": {
   "file_extension": ".jl",
   "mimetype": "application/julia",
   "name": "julia",
   "version": "1.6.1"
  }
 },
 "nbformat": 4,
 "nbformat_minor": 2
}
